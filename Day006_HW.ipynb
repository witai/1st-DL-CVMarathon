{
 "cells": [
  {
   "cell_type": "markdown",
   "metadata": {},
   "source": [
    "# API 資料串接 - 以 知乎 API 實作範例\n",
    "\n",
    "\n",
    "\n",
    "* 了解知乎 API 使用方式與回傳內容\n",
    "* 撰寫程式存取 API 且添加標頭\n",
    "\n",
    "\n"
   ]
  },
  {
   "cell_type": "markdown",
   "metadata": {},
   "source": [
    "## 作業目標\n",
    "\n",
    "* 根據範例提供的 API ，完成以下問題：\n",
    "\n",
    "    1. 取出知乎問題發問時間\n",
    "    2. 取出第一筆與最後一筆回答的時間\n"
   ]
  },
  {
   "cell_type": "markdown",
   "metadata": {},
   "source": [
    "### 1. 取出知乎問題發問時間"
   ]
  },
  {
   "cell_type": "code",
   "execution_count": 2,
   "metadata": {},
   "outputs": [
    {
     "data": {
      "text/plain": [
       "'{\"data\":[{\"id\":637938925,\"type\":\"answer\",\"answer_type\":\"normal\",\"question\":{\"type\":\"question\",\"id\":55493026,\"title\":\"你们都是怎么学 Python 的？\",\"question_type\":\"normal\",\"created\":1486390229,\"updated_time\":1582533957,\"url\":\"https://www.zhihu.com/api/v4/questions/55493026\",\"relationship\":{}},\"author\":{\"id\":\"e8c4768eaa41e3749f7e8bc5ac6aa74b\",\"url_token\":\"Lanyuneet\",\"name\":\"Slumbers\",\"avatar_url\":\"https://pic2.zhimg.com/v2-f950cfef511d33500177be90030dcd3d_l.jpg?source=1940ef5c\",\"avatar_url_template\":\"https://pic4.zhimg.com/v2-f950cfef511d33500177be90030dcd3d.jpg?source=1940ef5c\",\"is_org\":false,\"type\":\"people\",\"url\":\"https://www.zhihu.com/api/v4/people/e8c4768eaa41e3749f7e8bc5ac6aa74b\",\"user_type\":\"people\",\"headline\":\"算法工程师\",\"badge\":[],\"badge_v2\":{\"title\":\"\",\"merged_badges\":[],\"detail_badges\":[]},\"gender\":0,\"is_advertiser\":false,\"is_privacy\":false},\"url\":\"https://www.zhihu.com/api/v4/answers/637938925\",\"is_collapsed\":false,\"created_time\":1554085028,\"updated_time\":1558451618,\"extras\":\"\",\"is_copyable\":true,\"relationship\":{\"upvoted_followees\":[]},\"ad_answer\":null},{\"id\":683070334,\"type\":\"answer\",\"answer_type\":\"normal\",\"question\":{\"type\":\"question\",\"id\":55493026,\"title\":\"你们都是怎么学 Python 的？\",\"question_type\":\"normal\",\"created\":1486390229,\"updated_time\":1582533957,\"url\":\"https://www.zhihu.com/api/v4/questions/55493026\",\"relationship\":{}},\"author\":{\"id\":\"36f69162230003d316d0b8a6d8da20ba\",\"url_token\":\"liang-zi-wei-48\",\"name\":\"量子位\",\"avatar_url\":\"https://picb.zhimg.com/v2-ca6e7ffc10a0d10edbae635cee82d007_l.jpg?source=1940ef5c\",\"avatar_url_template\":\"https://pic3.zhimg.com/v2-ca6e7ffc10a0d10edbae635cee82d007.jpg?source=1940ef5c\",\"is_org\":true,\"type\":\"people\",\"url\":\"https://www.zhihu.com/api/v4/people/36f69162230003d316d0b8a6d8da20ba\",\"user_type\":\"organization\",\"headline\":\"有趣的AI\\\\u0026amp;前沿科技→_→ 公众号：QbitAI\",\"badge\":[{\"type\":\"identity\",\"description\":\"已认证的官方帐号\",\"topics\":[]},{\"type\":\"best_answerer\",\"description\":\"优秀回答者\",\"topics\":[]}],\"badge_v2\":{\"title\":\"科研话题下的优秀回答者\",\"merged_badges\":[{\"type\":\"best\",\"detail_type\":\"best\",\"title\":\"优秀认证\",\"description\":\"科研话题下的优秀回答者\",\"url\":\"https://www.zhihu.com/topic/20054793\",\"sources\":[{\"id\":\"19556895\",\"token\":\"19556895\",\"type\":\"topic\",\"url\":\"https://www.zhihu.com/topic/19556895\",\"name\":\"科研\",\"avatar_path\":\"v2-f94b3093434c09b4501b056d142025e0\",\"avatar_url\":\"https://pic1.zhimg.com/v2-f94b3093434c09b4501b056d142025e0_hd.jpg\",\"description\":\"\"},{\"id\":\"19551275\",\"token\":\"19551275\",\"type\":\"topic\",\"url\":\"https://www.zhihu.com/topic/19551275\",\"name\":\"人工智能\",\"avatar_path\":\"v2-c41d10d22173d515740c43c70f885705\",\"avatar_url\":\"https://pic4.zhimg.com/v2-c41d10d22173d515740c43c70f885705_hd.jpg\",\"description\":\"\"}]},{\"type\":\"identity\",\"detail_type\":\"identity\",\"title\":\"认证\",\"description\":\"已认证的官方帐号\",\"url\":\"https://www.zhihu.com/account/verification/intro\",\"sources\":[]}],\"detail_badges\":[{\"type\":\"best\",\"detail_type\":\"best_answerer\",\"title\":\"优秀回答者\",\"description\":\"科研话题下的优秀回答者\",\"url\":\"https://www.zhihu.com/topic/20054793\",\"sources\":[{\"id\":\"19556895\",\"token\":\"19556895\",\"type\":\"topic\",\"url\":\"https://www.zhihu.com/topic/19556895\",\"name\":\"科研\",\"avatar_path\":\"v2-f94b3093434c09b4501b056d142025e0\",\"avatar_url\":\"https://pic1.zhimg.com/v2-f94b3093434c09b4501b056d142025e0_hd.jpg\",\"description\":\"\"},{\"id\":\"19551275\",\"token\":\"19551275\",\"type\":\"topic\",\"url\":\"https://www.zhihu.com/topic/19551275\",\"name\":\"人工智能\",\"avatar_path\":\"v2-c41d10d22173d515740c43c70f885705\",\"avatar_url\":\"https://pic4.zhimg.com/v2-c41d10d22173d515740c43c70f885705_hd.jpg\",\"description\":\"\"}]},{\"type\":\"identity\",\"detail_type\":\"identity_org\",\"title\":\"已认证的官方帐号\",\"description\":\"已认证的官方帐号\",\"url\":\"https://www.zhihu.com/account/verification/intro\",\"sources\":[]}]},\"gender\":-1,\"is_advertiser\":false,\"is_privacy\":false},\"url\":\"https://www.zhihu.com/api/v4/answers/683070334\",\"is_collapsed\":false,\"created_time\":1557824412,\"updated_time\":1557824412,\"extras\":\"\",\"is_copyable\":true,\"relationship\":{\"upvoted_followees\":[]},\"ad_answer\":null},{\"id\":1106818911,\"type\":\"answer\",\"answer_type\":\"paid\",\"question\":{\"type\":\"question\",\"id\":55493026,\"title\":\"你们都是怎么学 Python 的？\",\"question_type\":\"normal\",\"created\":1486390229,\"updated_time\":1582533957,\"url\":\"https://www.zhihu.com/api/v4/questions/55493026\",\"relationship\":{}},\"author\":{\"id\":\"1ab00059f301920f1dae9d92386937e6\",\"url_token\":\"zhi-hu-ke-tang\",\"name\":\"知乎课堂\",\"avatar_url\":\"https://pic2.zhimg.com/v2-e1b963abfa4c07d04d7b66bc482b1094_l.jpg?source=1940ef5c\",\"avatar_url_template\":\"https://pic4.zhimg.com/v2-e1b963abfa4c07d04d7b66bc482b1094.jpg?source=1940ef5c\",\"is_org\":true,\"type\":\"people\",\"url\":\"https://www.zhihu.com/api/v4/people/1ab00059f301920f1dae9d92386937e6\",\"user_type\":\"organization\",\"headline\":\"欢迎关注公众号：知乎职场圈，每天解锁一个新技能。\",\"badge\":[{\"type\":\"identity\",\"description\":\"已认证的官方帐号\",\"topics\":[]}],\"badge_v2\":{\"title\":\"已认证的官方帐号\",\"merged_badges\":[{\"type\":\"identity\",\"detail_type\":\"identity\",\"title\":\"认证\",\"description\":\"已认证的官方帐号\",\"url\":\"https://www.zhihu.com/account/verification/intro\",\"sources\":[]}],\"detail_badges\":[{\"type\":\"identity\",\"detail_type\":\"identity_org\",\"title\":\"已认证的官方帐号\",\"description\":\"已认证的官方帐号\",\"url\":\"https://www.zhihu.com/account/verification/intro\",\"sources\":[]}]},\"gender\":-1,\"is_advertiser\":true,\"is_privacy\":false},\"url\":\"https://www.zhihu.com/api/v4/answers/1106818911\",\"is_collapsed\":false,\"created_time\":1585227854,\"updated_time\":1585227854,\"extras\":\"\",\"is_copyable\":false,\"relationship\":{\"upvoted_followees\":[]},\"ad_answer\":null},{\"id\":163537026,\"type\":\"answer\",\"answer_type\":\"normal\",\"question\":{\"type\":\"question\",\"id\":55493026,\"title\":\"你们都是怎么学 Python 的？\",\"question_type\":\"normal\",\"created\":1486390229,\"updated_time\":1582533957,\"url\":\"https://www.zhihu.com/api/v4/questions/55493026\",\"relationship\":{}},\"author\":{\"id\":\"eaf435b228ce0b038a4afe8203f59b49\",\"url_token\":\"sgai\",\"name\":\"路人甲\",\"avatar_url\":\"https://pic2.zhimg.com/958a18f3216805bed269d158fb83325a_l.jpg?source=1940ef5c\",\"avatar_url_template\":\"https://pic2.zhimg.com/958a18f3216805bed269d158fb83325a.jpg?source=1940ef5c\",\"is_org\":false,\"type\":\"people\",\"url\":\"https://www.zhihu.com/api/v4/people/eaf435b228ce0b038a4afe8203f59b49\",\"user_type\":\"people\",\"headline\":\"微信公众号：路人甲TM，微信：thisnozy\",\"badge\":[],\"badge_v2\":{\"title\":\"\",\"merged_badges\":[],\"detail_badges\":[]},\"gender\":1,\"is_advertiser\":false,\"is_privacy\":false},\"url\":\"https://www.zhihu.com/api/v4/answers/163537026\",\"is_collapsed\":false,\"created_time\":1493693113,\"updated_time\":1579138388,\"extras\":\"\",\"is_copyable\":true,\"relationship\":{\"upvoted_followees\":[]},\"ad_answer\":null},{\"id\":873825546,\"type\":\"answer\",\"answer_type\":\"normal\",\"question\":{\"type\":\"question\",\"id\":55493026,\"title\":\"你们都是怎么学 Python 的？\",\"question_type\":\"normal\",\"created\":1486390229,\"updated_time\":1582533957,\"url\":\"https://www.zhihu.com/api/v4/questions/55493026\",\"relationship\":{}},\"author\":{\"id\":\"4d1c2c77bc7431c2a6006d154198e8b9\",\"url_token\":\"ji-de-yao-xing-fu\",\"name\":\"痴海\",\"avatar_url\":\"https://pic4.zhimg.com/v2-e8b4f9dff1e3c3170185584c925d388a_l.jpg?source=1940ef5c\",\"avatar_url_template\":\"https://pic1.zhimg.com/v2-e8b4f9dff1e3c3170185584c925d388a.jpg?source=1940ef5c\",\"is_org\":false,\"type\":\"people\",\"url\":\"https://www.zhihu.com/api/v4/people/4d1c2c77bc7431c2a6006d154198e8b9\",\"user_type\":\"people\",\"headline\":\"公众号痴海：每周一篇干货文\",\"badge\":[],\"badge_v2\":{\"title\":\"\",\"merged_badges\":[],\"detail_badges\":[]},\"gender\":1,\"is_advertiser\":false,\"is_privacy\":false},\"url\":\"https://www.zhihu.com/api/v4/answers/873825546\",\"is_collapsed\":false,\"created_time\":1572318426,\"updated_time\":1587220473,\"extras\":\"\",\"is_copyable\":false,\"relationship\":{\"upvoted_followees\":[]},\"ad_answer\":null}],\"paging\":{\"is_end\":false,\"is_start\":true,\"next\":\"https://www.zhihu.com/api/v4/questions/55493026/answers?limit=5\\\\u0026offset=5\",\"previous\":\"https://www.zhihu.com/api/v4/questions/55493026/answers?limit=5\\\\u0026offset=0\",\"totals\":614}}\\n'"
      ]
     },
     "execution_count": 2,
     "metadata": {},
     "output_type": "execute_result"
    }
   ],
   "source": [
    "# 1. 取出知乎問題發問時間\n",
    "\n",
    "'''\n",
    "Your Code\n",
    "'''\n",
    "\n",
    "headers = {'user-agent': 'my-app/0.0.1'}\n",
    "r = requests.get('https://www.zhihu.com/api/v4/questions/55493026/answers',headers=headers)\n",
    "response = r.text\n",
    "\n",
    "response"
   ]
  },
  {
   "cell_type": "code",
   "execution_count": 3,
   "metadata": {},
   "outputs": [],
   "source": [
    "import json\n",
    "data = json.loads(response)"
   ]
  },
  {
   "cell_type": "code",
   "execution_count": 20,
   "metadata": {},
   "outputs": [
    {
     "data": {
      "text/html": [
       "<div>\n",
       "<style scoped>\n",
       "    .dataframe tbody tr th:only-of-type {\n",
       "        vertical-align: middle;\n",
       "    }\n",
       "\n",
       "    .dataframe tbody tr th {\n",
       "        vertical-align: top;\n",
       "    }\n",
       "\n",
       "    .dataframe thead th {\n",
       "        text-align: right;\n",
       "    }\n",
       "</style>\n",
       "<table border=\"1\" class=\"dataframe\">\n",
       "  <thead>\n",
       "    <tr style=\"text-align: right;\">\n",
       "      <th></th>\n",
       "      <th>id</th>\n",
       "      <th>type</th>\n",
       "      <th>answer_type</th>\n",
       "      <th>url</th>\n",
       "      <th>is_collapsed</th>\n",
       "      <th>created_time</th>\n",
       "      <th>updated_time</th>\n",
       "      <th>extras</th>\n",
       "      <th>is_copyable</th>\n",
       "      <th>ad_answer</th>\n",
       "      <th>...</th>\n",
       "      <th>author.user_type</th>\n",
       "      <th>author.headline</th>\n",
       "      <th>author.badge</th>\n",
       "      <th>author.badge_v2.title</th>\n",
       "      <th>author.badge_v2.merged_badges</th>\n",
       "      <th>author.badge_v2.detail_badges</th>\n",
       "      <th>author.gender</th>\n",
       "      <th>author.is_advertiser</th>\n",
       "      <th>author.is_privacy</th>\n",
       "      <th>relationship.upvoted_followees</th>\n",
       "    </tr>\n",
       "  </thead>\n",
       "  <tbody>\n",
       "    <tr>\n",
       "      <th>0</th>\n",
       "      <td>637938925</td>\n",
       "      <td>answer</td>\n",
       "      <td>normal</td>\n",
       "      <td>https://www.zhihu.com/api/v4/answers/637938925</td>\n",
       "      <td>False</td>\n",
       "      <td>1554085028</td>\n",
       "      <td>1558451618</td>\n",
       "      <td></td>\n",
       "      <td>True</td>\n",
       "      <td>None</td>\n",
       "      <td>...</td>\n",
       "      <td>people</td>\n",
       "      <td>算法工程师</td>\n",
       "      <td>[]</td>\n",
       "      <td></td>\n",
       "      <td>[]</td>\n",
       "      <td>[]</td>\n",
       "      <td>0</td>\n",
       "      <td>False</td>\n",
       "      <td>False</td>\n",
       "      <td>[]</td>\n",
       "    </tr>\n",
       "    <tr>\n",
       "      <th>1</th>\n",
       "      <td>683070334</td>\n",
       "      <td>answer</td>\n",
       "      <td>normal</td>\n",
       "      <td>https://www.zhihu.com/api/v4/answers/683070334</td>\n",
       "      <td>False</td>\n",
       "      <td>1557824412</td>\n",
       "      <td>1557824412</td>\n",
       "      <td></td>\n",
       "      <td>True</td>\n",
       "      <td>None</td>\n",
       "      <td>...</td>\n",
       "      <td>organization</td>\n",
       "      <td>有趣的AI&amp;amp;前沿科技→_→ 公众号：QbitAI</td>\n",
       "      <td>[{'type': 'identity', 'description': '已认证的官方帐号...</td>\n",
       "      <td>科研话题下的优秀回答者</td>\n",
       "      <td>[{'type': 'best', 'detail_type': 'best', 'titl...</td>\n",
       "      <td>[{'type': 'best', 'detail_type': 'best_answere...</td>\n",
       "      <td>-1</td>\n",
       "      <td>False</td>\n",
       "      <td>False</td>\n",
       "      <td>[]</td>\n",
       "    </tr>\n",
       "    <tr>\n",
       "      <th>2</th>\n",
       "      <td>1106818911</td>\n",
       "      <td>answer</td>\n",
       "      <td>paid</td>\n",
       "      <td>https://www.zhihu.com/api/v4/answers/1106818911</td>\n",
       "      <td>False</td>\n",
       "      <td>1585227854</td>\n",
       "      <td>1585227854</td>\n",
       "      <td></td>\n",
       "      <td>False</td>\n",
       "      <td>None</td>\n",
       "      <td>...</td>\n",
       "      <td>organization</td>\n",
       "      <td>欢迎关注公众号：知乎职场圈，每天解锁一个新技能。</td>\n",
       "      <td>[{'type': 'identity', 'description': '已认证的官方帐号...</td>\n",
       "      <td>已认证的官方帐号</td>\n",
       "      <td>[{'type': 'identity', 'detail_type': 'identity...</td>\n",
       "      <td>[{'type': 'identity', 'detail_type': 'identity...</td>\n",
       "      <td>-1</td>\n",
       "      <td>True</td>\n",
       "      <td>False</td>\n",
       "      <td>[]</td>\n",
       "    </tr>\n",
       "    <tr>\n",
       "      <th>3</th>\n",
       "      <td>163537026</td>\n",
       "      <td>answer</td>\n",
       "      <td>normal</td>\n",
       "      <td>https://www.zhihu.com/api/v4/answers/163537026</td>\n",
       "      <td>False</td>\n",
       "      <td>1493693113</td>\n",
       "      <td>1579138388</td>\n",
       "      <td></td>\n",
       "      <td>True</td>\n",
       "      <td>None</td>\n",
       "      <td>...</td>\n",
       "      <td>people</td>\n",
       "      <td>微信公众号：路人甲TM，微信：thisnozy</td>\n",
       "      <td>[]</td>\n",
       "      <td></td>\n",
       "      <td>[]</td>\n",
       "      <td>[]</td>\n",
       "      <td>1</td>\n",
       "      <td>False</td>\n",
       "      <td>False</td>\n",
       "      <td>[]</td>\n",
       "    </tr>\n",
       "    <tr>\n",
       "      <th>4</th>\n",
       "      <td>873825546</td>\n",
       "      <td>answer</td>\n",
       "      <td>normal</td>\n",
       "      <td>https://www.zhihu.com/api/v4/answers/873825546</td>\n",
       "      <td>False</td>\n",
       "      <td>1572318426</td>\n",
       "      <td>1587220473</td>\n",
       "      <td></td>\n",
       "      <td>False</td>\n",
       "      <td>None</td>\n",
       "      <td>...</td>\n",
       "      <td>people</td>\n",
       "      <td>公众号痴海：每周一篇干货文</td>\n",
       "      <td>[]</td>\n",
       "      <td></td>\n",
       "      <td>[]</td>\n",
       "      <td>[]</td>\n",
       "      <td>1</td>\n",
       "      <td>False</td>\n",
       "      <td>False</td>\n",
       "      <td>[]</td>\n",
       "    </tr>\n",
       "  </tbody>\n",
       "</table>\n",
       "<p>5 rows × 35 columns</p>\n",
       "</div>"
      ],
      "text/plain": [
       "           id    type answer_type  \\\n",
       "0   637938925  answer      normal   \n",
       "1   683070334  answer      normal   \n",
       "2  1106818911  answer        paid   \n",
       "3   163537026  answer      normal   \n",
       "4   873825546  answer      normal   \n",
       "\n",
       "                                               url  is_collapsed  \\\n",
       "0   https://www.zhihu.com/api/v4/answers/637938925         False   \n",
       "1   https://www.zhihu.com/api/v4/answers/683070334         False   \n",
       "2  https://www.zhihu.com/api/v4/answers/1106818911         False   \n",
       "3   https://www.zhihu.com/api/v4/answers/163537026         False   \n",
       "4   https://www.zhihu.com/api/v4/answers/873825546         False   \n",
       "\n",
       "   created_time  updated_time extras  is_copyable ad_answer  ...  \\\n",
       "0    1554085028    1558451618                True      None  ...   \n",
       "1    1557824412    1557824412                True      None  ...   \n",
       "2    1585227854    1585227854               False      None  ...   \n",
       "3    1493693113    1579138388                True      None  ...   \n",
       "4    1572318426    1587220473               False      None  ...   \n",
       "\n",
       "  author.user_type               author.headline  \\\n",
       "0           people                         算法工程师   \n",
       "1     organization  有趣的AI&amp;前沿科技→_→ 公众号：QbitAI   \n",
       "2     organization      欢迎关注公众号：知乎职场圈，每天解锁一个新技能。   \n",
       "3           people       微信公众号：路人甲TM，微信：thisnozy   \n",
       "4           people                 公众号痴海：每周一篇干货文   \n",
       "\n",
       "                                        author.badge author.badge_v2.title  \\\n",
       "0                                                 []                         \n",
       "1  [{'type': 'identity', 'description': '已认证的官方帐号...           科研话题下的优秀回答者   \n",
       "2  [{'type': 'identity', 'description': '已认证的官方帐号...              已认证的官方帐号   \n",
       "3                                                 []                         \n",
       "4                                                 []                         \n",
       "\n",
       "                       author.badge_v2.merged_badges  \\\n",
       "0                                                 []   \n",
       "1  [{'type': 'best', 'detail_type': 'best', 'titl...   \n",
       "2  [{'type': 'identity', 'detail_type': 'identity...   \n",
       "3                                                 []   \n",
       "4                                                 []   \n",
       "\n",
       "                       author.badge_v2.detail_badges author.gender  \\\n",
       "0                                                 []             0   \n",
       "1  [{'type': 'best', 'detail_type': 'best_answere...            -1   \n",
       "2  [{'type': 'identity', 'detail_type': 'identity...            -1   \n",
       "3                                                 []             1   \n",
       "4                                                 []             1   \n",
       "\n",
       "  author.is_advertiser author.is_privacy relationship.upvoted_followees  \n",
       "0                False             False                             []  \n",
       "1                False             False                             []  \n",
       "2                 True             False                             []  \n",
       "3                False             False                             []  \n",
       "4                False             False                             []  \n",
       "\n",
       "[5 rows x 35 columns]"
      ]
     },
     "execution_count": 20,
     "metadata": {},
     "output_type": "execute_result"
    }
   ],
   "source": [
    "from pandas.io.json import json_normalize\n",
    "json_normalize(data['data'])"
   ]
  },
  {
   "cell_type": "code",
   "execution_count": 15,
   "metadata": {},
   "outputs": [
    {
     "data": {
      "text/html": [
       "<div>\n",
       "<style scoped>\n",
       "    .dataframe tbody tr th:only-of-type {\n",
       "        vertical-align: middle;\n",
       "    }\n",
       "\n",
       "    .dataframe tbody tr th {\n",
       "        vertical-align: top;\n",
       "    }\n",
       "\n",
       "    .dataframe thead th {\n",
       "        text-align: right;\n",
       "    }\n",
       "</style>\n",
       "<table border=\"1\" class=\"dataframe\">\n",
       "  <thead>\n",
       "    <tr style=\"text-align: right;\">\n",
       "      <th></th>\n",
       "      <th>data</th>\n",
       "      <th>paging.is_end</th>\n",
       "      <th>paging.is_start</th>\n",
       "      <th>paging.next</th>\n",
       "      <th>paging.previous</th>\n",
       "      <th>paging.totals</th>\n",
       "    </tr>\n",
       "  </thead>\n",
       "  <tbody>\n",
       "    <tr>\n",
       "      <th>0</th>\n",
       "      <td>[{'id': 637938925, 'type': 'answer', 'answer_t...</td>\n",
       "      <td>False</td>\n",
       "      <td>True</td>\n",
       "      <td>https://www.zhihu.com/api/v4/questions/5549302...</td>\n",
       "      <td>https://www.zhihu.com/api/v4/questions/5549302...</td>\n",
       "      <td>614</td>\n",
       "    </tr>\n",
       "  </tbody>\n",
       "</table>\n",
       "</div>"
      ],
      "text/plain": [
       "                                                data  paging.is_end  \\\n",
       "0  [{'id': 637938925, 'type': 'answer', 'answer_t...          False   \n",
       "\n",
       "   paging.is_start                                        paging.next  \\\n",
       "0             True  https://www.zhihu.com/api/v4/questions/5549302...   \n",
       "\n",
       "                                     paging.previous  paging.totals  \n",
       "0  https://www.zhihu.com/api/v4/questions/5549302...            614  "
      ]
     },
     "execution_count": 15,
     "metadata": {},
     "output_type": "execute_result"
    }
   ],
   "source": [
    "json_column"
   ]
  },
  {
   "cell_type": "markdown",
   "metadata": {},
   "source": [
    "### 2. 取出第一筆與最後一筆回答的時間"
   ]
  },
  {
   "cell_type": "code",
   "execution_count": 3,
   "metadata": {},
   "outputs": [
    {
     "data": {
      "text/plain": [
       "'\\nYour Code\\n'"
      ]
     },
     "execution_count": 3,
     "metadata": {},
     "output_type": "execute_result"
    }
   ],
   "source": [
    "# 2. 取出第一筆與最後一筆回答的時間\n",
    "\n",
    "'''\n",
    "Your Code\n",
    "'''"
   ]
  },
  {
   "cell_type": "code",
   "execution_count": null,
   "metadata": {},
   "outputs": [],
   "source": []
  },
  {
   "cell_type": "code",
   "execution_count": null,
   "metadata": {},
   "outputs": [],
   "source": []
  },
  {
   "cell_type": "code",
   "execution_count": null,
   "metadata": {},
   "outputs": [],
   "source": []
  }
 ],
 "metadata": {
  "kernelspec": {
   "display_name": "Python 3",
   "language": "python",
   "name": "python3"
  },
  "language_info": {
   "codemirror_mode": {
    "name": "ipython",
    "version": 3
   },
   "file_extension": ".py",
   "mimetype": "text/x-python",
   "name": "python",
   "nbconvert_exporter": "python",
   "pygments_lexer": "ipython3",
   "version": "3.7.5"
  },
  "toc": {
   "base_numbering": 1,
   "nav_menu": {},
   "number_sections": true,
   "sideBar": true,
   "skip_h1_title": false,
   "title_cell": "Table of Contents",
   "title_sidebar": "Contents",
   "toc_cell": false,
   "toc_position": {},
   "toc_section_display": true,
   "toc_window_display": false
  },
  "varInspector": {
   "cols": {
    "lenName": 16,
    "lenType": 16,
    "lenVar": 40
   },
   "kernels_config": {
    "python": {
     "delete_cmd_postfix": "",
     "delete_cmd_prefix": "del ",
     "library": "var_list.py",
     "varRefreshCmd": "print(var_dic_list())"
    },
    "r": {
     "delete_cmd_postfix": ") ",
     "delete_cmd_prefix": "rm(",
     "library": "var_list.r",
     "varRefreshCmd": "cat(var_dic_list()) "
    }
   },
   "types_to_exclude": [
    "module",
    "function",
    "builtin_function_or_method",
    "instance",
    "_Feature"
   ],
   "window_display": false
  }
 },
 "nbformat": 4,
 "nbformat_minor": 2
}
